{
 "cells": [
  {
   "cell_type": "code",
   "execution_count": 1,
   "metadata": {},
   "outputs": [
    {
     "name": "stdout",
     "output_type": "stream",
     "text": [
      "Voici notre quiz, tu as trois chances !\n",
      "Bravo ! Tu as gagné le quiz !\n"
     ]
    }
   ],
   "source": [
    "class Quiz:\n",
    "    def __init__(self, nb_de_chances=3):\n",
    "        self.nb_de_chances = nb_de_chances\n",
    "        print(\"Voici notre quiz, tu as trois chances !\")\n",
    "\n",
    "    def poser_question(self, question, reponse_correcte):\n",
    "        \"\"\"\n",
    "        Pose une question et vérifie la réponse.\n",
    "        :param question: La question à poser.\n",
    "        :param reponse_correcte: La réponse attendue.\n",
    "        :return: True si la réponse est correcte, False sinon.\n",
    "        \"\"\"\n",
    "        while self.nb_de_chances > 0:\n",
    "            reponse = input(question)\n",
    "            if isinstance(reponse_correcte, str):\n",
    "                reponse = reponse.lower()\n",
    "                reponse_correcte = reponse_correcte.lower()\n",
    "            if reponse == reponse_correcte:\n",
    "                return True\n",
    "            \n",
    "            self.nb_de_chances -= 1\n",
    "            print(f\"Dommage ! Il te reste {self.nb_de_chances} chances\")\n",
    "            if self.nb_de_chances == 0:\n",
    "                print(\"Oh non ! Tu as perdu le jeu...\")\n",
    "                return False\n",
    "        \n",
    "    def lancer_quiz(self):\n",
    "        if self.poser_question(\"Combien de fois la France a gagné la coupe du monde ?\", \"2\"):\n",
    "            if self.poser_question(\"Quand a été fondé Apple ?\", \"1976\"):\n",
    "                if self.poser_question(\"Qui a fondé SpaceX ?\", \"elon musk\"):\n",
    "                    print(\"Bravo ! Tu as gagné le quiz !\")\n",
    "\n",
    "# Exécution du quiz\n",
    "quiz = Quiz()\n",
    "quiz.lancer_quiz()"
   ]
  },
  {
   "cell_type": "code",
   "execution_count": null,
   "metadata": {},
   "outputs": [],
   "source": []
  }
 ],
 "metadata": {
  "kernelspec": {
   "display_name": "Python 3",
   "language": "python",
   "name": "python3"
  },
  "language_info": {
   "codemirror_mode": {
    "name": "ipython",
    "version": 3
   },
   "file_extension": ".py",
   "mimetype": "text/x-python",
   "name": "python",
   "nbconvert_exporter": "python",
   "pygments_lexer": "ipython3",
   "version": "3.13.2"
  }
 },
 "nbformat": 4,
 "nbformat_minor": 2
}
